{
  "nbformat": 4,
  "nbformat_minor": 0,
  "metadata": {
    "colab": {
      "name": "Ensemble Classifier.ipynb",
      "provenance": [],
      "authorship_tag": "ABX9TyNMUa7kv1oQ40lKOar3Qy4P",
      "include_colab_link": true
    },
    "kernelspec": {
      "name": "python3",
      "display_name": "Python 3"
    },
    "language_info": {
      "name": "python"
    }
  },
  "cells": [
    {
      "cell_type": "markdown",
      "metadata": {
        "id": "view-in-github",
        "colab_type": "text"
      },
      "source": [
        "<a href=\"https://colab.research.google.com/github/PrabuMadhavan/Information-Retrieval-and-Web-Mining/blob/main/Ensemble_Classifier.ipynb\" target=\"_parent\"><img src=\"https://colab.research.google.com/assets/colab-badge.svg\" alt=\"Open In Colab\"/></a>"
      ]
    },
    {
      "cell_type": "code",
      "metadata": {
        "id": "8_ZGWX35pwRz"
      },
      "source": [
        "#Importing the libraries\n",
        "import numpy as np\n",
        "import matplotlib.pyplot as plt\n",
        "import pandas as pd\n",
        "from sklearn.tree import DecisionTreeClassifier\n",
        "from sklearn.linear_model import LogisticRegression\n",
        "from sklearn.svm import SVC\n",
        "from sklearn.neighbors import KNeighborsClassifier\n",
        "from sklearn.naive_bayes import GaussianNB\n",
        "from sklearn.ensemble import VotingClassifier\n",
        "from sklearn import model_selection\n",
        "from sklearn.metrics import confusion_matrix\n",
        "from sklearn. preprocessing import StandardScaler\n",
        "from sklearn.model_selection import train_test_split\n",
        "\n",
        "#Reading the dataset\n",
        "dataset = pd.read_csv('Churn_Modelling.csv')\n",
        "X = dataset.iloc[:, 3:13].values\n",
        "y = dataset.iloc[:, 13].values\n",
        "\n",
        "# Encoding categorical data\n",
        "from sklearn.preprocessing import LabelEncoder, OneHotEncoder\n",
        "labelencoder_X_1 = LabelEncoder()\n",
        "X[:, 1] = labelencoder_X_1.fit_transform(X[:, 1])\n",
        "labelencoder_X_2 = LabelEncoder()\n",
        "X[:, 2] = labelencoder_X_2.fit_transform(X[:, 2])\n",
        "from sklearn.compose import ColumnTransformer\n",
        "ct = ColumnTransformer([(\"Geography\", OneHotEncoder(), [1])], remainder = 'passthrough')\n",
        "X = ct.fit_transform(X)\n",
        "X = X[:, 1:]\n",
        "\n",
        "# Splitting the dataset into the Training set and Test set\n",
        "X_train, X_test, y_train, y_test = train_test_split(X, y, test_size = 0.15, random_state = 0, stratify = y)\n",
        "\n",
        "# Feature Scaling\n",
        "sc = StandardScaler()\n",
        "X_train = sc.fit_transform(X_train)\n",
        "X_test = sc.transform(X_test)\n",
        "\n",
        "#Defining the machine learning models\n",
        "model1 = LogisticRegression()\n",
        "model2 = DecisionTreeClassifier(max_depth = 2)\n",
        "model3 = SVC()\n",
        "model4 = KNeighborsClassifier(n_neighbors = 5, metric = 'minkowski', p = 2)\n",
        "model5 = GaussianNB()\n",
        "\n",
        "# #Training the machine learning models\n",
        "# model1.fit(X_train, y_train)\n",
        "# model2.fit(X_train, y_train)\n",
        "# model3.fit(X_train, y_train)\n",
        "# model4.fit(X_train, y_train)\n",
        "# model5.fit(X_train, y_train)\n",
        "\n",
        "# #Making the prediction\n",
        "# y_pred1 = model1.predict(X_test)\n",
        "# y_pred2 = model2.predict(X_test)\n",
        "# y_pred3 = model3.predict(X_test)\n",
        "# y_pred4 = model4.predict(X_test)\n",
        "# y_pred5 = model5.predict(X_test)\n",
        "\n",
        "#Confusion matrix\n",
        "# cm_LogisticRegression = confusion_matrix(y_test, y_pred1)\n",
        "# cm_DecisionTree = confusion_matrix(y_test, y_pred2)\n",
        "# cm_SupportVectorClass = confusion_matrix(y_test, y_pred3)\n",
        "# cm_KNN = confusion_matrix(y_test, y_pred4)\n",
        "# cm_NaiveBayes = confusion_matrix(y_test, y_pred5)\n"
      ],
      "execution_count": null,
      "outputs": []
    },
    {
      "cell_type": "code",
      "metadata": {
        "colab": {
          "base_uri": "https://localhost:8080/"
        },
        "id": "WCEWfrxzrHZi",
        "outputId": "7dbff2a2-6ce0-4d26-83ca-bd6de21dd480"
      },
      "source": [
        "#10-fold cross-validation \n",
        "#The k-fold cross-validation procedure divides a limited dataset into k non-overlapping folds.\n",
        "#total of k models are fit and evaluated\n",
        "\n",
        "kfold = model_selection.KFold(n_splits=10, random_state = 0)\n",
        "result1 = model_selection.cross_val_score(model1, X_train, y_train, cv=kfold)\n",
        "result2 = model_selection.cross_val_score(model2, X_train, y_train, cv=kfold)\n",
        "result3 = model_selection.cross_val_score(model3, X_train, y_train, cv=kfold)\n",
        "result4 = model_selection.cross_val_score(model4, X_train, y_train, cv=kfold)\n",
        "result5 = model_selection.cross_val_score(model5, X_train, y_train, cv=kfold)\n",
        "\n",
        "#Printing the accuracies achieved in cross-validation\n",
        "print('Accuracy of Logistic Regression Model = ',result1.mean())\n",
        "print('Accuracy of Decision Tree Model = ',result2.mean())\n",
        "print('Accuracy of Support Vector Machine = ',result3.mean())\n",
        "print('Accuracy of k-NN Model = ',result4.mean())\n",
        "print('Accuracy of Naive Bayes Model = ',result5.mean())\n",
        "# print(result1)"
      ],
      "execution_count": null,
      "outputs": [
        {
          "output_type": "stream",
          "name": "stderr",
          "text": [
            "/usr/local/lib/python3.7/dist-packages/sklearn/model_selection/_split.py:296: FutureWarning: Setting a random_state has no effect since shuffle is False. This will raise an error in 0.24. You should leave random_state to its default (None), or set shuffle=True.\n",
            "  FutureWarning\n"
          ]
        },
        {
          "output_type": "stream",
          "name": "stdout",
          "text": [
            "Accuracy of Logistic Regression Model =  0.8110588235294116\n",
            "Accuracy of Decision Tree Model =  0.8311764705882352\n",
            "Accuracy of Support Vector Machine =  0.8558823529411764\n",
            "Accuracy of k-NN Model =  0.8294117647058823\n",
            "Accuracy of Naive Bayes Model =  0.8238823529411766\n"
          ]
        }
      ]
    },
    {
      "cell_type": "code",
      "metadata": {
        "colab": {
          "base_uri": "https://localhost:8080/"
        },
        "id": "scE5PTY7rzsd",
        "outputId": "b394e696-665e-4fa1-fe07-77729cb0cc0d"
      },
      "source": [
        "a=(result1.mean()+result2.mean()+result3.mean()+result4.mean()+result5.mean())/5\n",
        "print(a)\n",
        "# b=result2.mean()\n",
        "# c=result3.mean()\n",
        "# d=result4.mean()\n",
        "# e=result5.mean()"
      ],
      "execution_count": null,
      "outputs": [
        {
          "output_type": "stream",
          "name": "stdout",
          "text": [
            "0.8302823529411765\n"
          ]
        }
      ]
    },
    {
      "cell_type": "code",
      "metadata": {
        "id": "9_wnN9mYvWhw"
      },
      "source": [
        ""
      ],
      "execution_count": null,
      "outputs": []
    }
  ]
}